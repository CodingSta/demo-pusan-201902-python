{
 "cells": [
  {
   "cell_type": "code",
   "execution_count": 5,
   "metadata": {},
   "outputs": [
    {
     "name": "stdout",
     "output_type": "stream",
     "text": [
      "hello\n",
      "world\n"
     ]
    }
   ],
   "source": [
    "print(\"hello\")\n",
    "print(\"world\")"
   ]
  },
  {
   "cell_type": "code",
   "execution_count": 6,
   "metadata": {},
   "outputs": [
    {
     "name": "stdout",
     "output_type": "stream",
     "text": [
      "양수\n"
     ]
    }
   ],
   "source": [
    "if 1 > 0:\n",
    "    print(\"양수\")\n",
    "else:\n",
    "    print(\"양수가 아님.\")"
   ]
  },
  {
   "cell_type": "code",
   "execution_count": 7,
   "metadata": {},
   "outputs": [
    {
     "name": "stdout",
     "output_type": "stream",
     "text": [
      "0\n",
      "1\n",
      "2\n",
      "3\n",
      "4\n",
      "5\n",
      "6\n",
      "7\n",
      "8\n",
      "9\n"
     ]
    }
   ],
   "source": [
    "for i in range(10):\n",
    "    print(i)"
   ]
  },
  {
   "cell_type": "code",
   "execution_count": 9,
   "metadata": {},
   "outputs": [],
   "source": [
    "for i in range(10):\n",
    "    pass"
   ]
  },
  {
   "cell_type": "code",
   "execution_count": 10,
   "metadata": {},
   "outputs": [],
   "source": [
    "for i in range(10): pass"
   ]
  },
  {
   "cell_type": "code",
   "execution_count": null,
   "metadata": {},
   "outputs": [],
   "source": []
  },
  {
   "cell_type": "code",
   "execution_count": 11,
   "metadata": {},
   "outputs": [
    {
     "data": {
      "text/plain": [
       "163372"
      ]
     },
     "execution_count": 11,
     "metadata": {},
     "output_type": "execute_result"
    }
   ],
   "source": [
    "import requests  # pip install requests\n",
    "\n",
    "res = requests.get(\"http://naver.com\")\n",
    "html = res.text\n",
    "len(html)"
   ]
  },
  {
   "cell_type": "code",
   "execution_count": 12,
   "metadata": {},
   "outputs": [
    {
     "data": {
      "text/plain": [
       "True"
      ]
     },
     "execution_count": 12,
     "metadata": {},
     "output_type": "execute_result"
    }
   ],
   "source": [
    "'히든프라이스' in html"
   ]
  },
  {
   "cell_type": "code",
   "execution_count": 13,
   "metadata": {},
   "outputs": [],
   "source": [
    "# HTML Parser\n",
    "from bs4 import BeautifulSoup # pip install beautifulsoup4\n",
    "\n",
    "soup = BeautifulSoup(html, 'html.parser')"
   ]
  },
  {
   "cell_type": "code",
   "execution_count": 19,
   "metadata": {},
   "outputs": [
    {
     "data": {
      "text/plain": [
       "20"
      ]
     },
     "execution_count": 19,
     "metadata": {},
     "output_type": "execute_result"
    }
   ],
   "source": [
    "tag_list = soup.select('.PM_CL_realtimeKeyword_list_base .ah_k')\n",
    "len(tag_list)"
   ]
  },
  {
   "cell_type": "code",
   "execution_count": 20,
   "metadata": {},
   "outputs": [
    {
     "data": {
      "text/plain": [
       "<span class=\"ah_k\">히든프라이스</span>"
      ]
     },
     "execution_count": 20,
     "metadata": {},
     "output_type": "execute_result"
    }
   ],
   "source": [
    "tag_list[0]"
   ]
  },
  {
   "cell_type": "code",
   "execution_count": 22,
   "metadata": {},
   "outputs": [
    {
     "data": {
      "text/plain": [
       "bs4.element.Tag"
      ]
     },
     "execution_count": 22,
     "metadata": {},
     "output_type": "execute_result"
    }
   ],
   "source": [
    "type(tag_list[0])"
   ]
  },
  {
   "cell_type": "code",
   "execution_count": 24,
   "metadata": {},
   "outputs": [
    {
     "data": {
      "text/plain": [
       "('히든프라이스', '2019 아카데미 시상식')"
      ]
     },
     "execution_count": 24,
     "metadata": {},
     "output_type": "execute_result"
    }
   ],
   "source": [
    "tag_list[0].text, tag_list[1].text"
   ]
  },
  {
   "cell_type": "code",
   "execution_count": 25,
   "metadata": {},
   "outputs": [
    {
     "name": "stdout",
     "output_type": "stream",
     "text": [
      "히든프라이스\n",
      "2019 아카데미 시상식\n",
      "삼성라이온즈\n",
      "라미 말렉\n",
      "케파\n",
      "그린북\n",
      "권오중 아들 발달장애\n",
      "강정호\n",
      "전소니\n",
      "노승일\n",
      "첼시 맨시티\n",
      "루시 보인턴\n",
      "에듀파인\n",
      "발달장애\n",
      "한예슬\n",
      "v50\n",
      "lg v50\n",
      "맨유 리버풀\n",
      "아미피디아\n",
      "화웨이 폴더블폰\n"
     ]
    }
   ],
   "source": [
    "for tag in tag_list:\n",
    "    print(tag.text)"
   ]
  },
  {
   "cell_type": "markdown",
   "metadata": {},
   "source": [
    "코드 정리"
   ]
  },
  {
   "cell_type": "code",
   "execution_count": 31,
   "metadata": {},
   "outputs": [
    {
     "data": {
      "text/plain": [
       "['히든프라이스',\n",
       " '2019 아카데미 시상식',\n",
       " '라미 말렉',\n",
       " '루시 보인턴',\n",
       " '삼성라이온즈',\n",
       " '케파',\n",
       " '권오중 아들 발달장애',\n",
       " '그린북',\n",
       " '강정호',\n",
       " '노승일',\n",
       " '첼시 맨시티',\n",
       " '발달장애',\n",
       " 'v50',\n",
       " 'lg v50',\n",
       " '에듀파인',\n",
       " '아미피디아',\n",
       " '한예슬',\n",
       " '맨유 리버풀',\n",
       " '화웨이 폴더블폰',\n",
       " '홍익표']"
      ]
     },
     "execution_count": 31,
     "metadata": {},
     "output_type": "execute_result"
    }
   ],
   "source": [
    "import requests                # pip install requests\n",
    "from bs4 import BeautifulSoup  # pip install beautifulsoup4\n",
    "\n",
    "res = requests.get(\"http://naver.com\")\n",
    "html = res.text\n",
    "soup = BeautifulSoup(html, 'html.parser')\n",
    "\n",
    "tag_list = soup.select('.PM_CL_realtimeKeyword_list_base .ah_k')\n",
    "\n",
    "# keyword_list = []\n",
    "# for tag in tag_list:\n",
    "#     keyword_list.append(tag.text)\n",
    "    \n",
    "# keyword_list\n",
    "\n",
    "# List Comprehension\n",
    "keyword_list = [tag.text for tag in tag_list]\n",
    "keyword_list"
   ]
  },
  {
   "cell_type": "code",
   "execution_count": 32,
   "metadata": {
    "collapsed": true
   },
   "outputs": [
    {
     "data": {
      "text/plain": [
       "['히든프라이스',\n",
       " '2019 아카데미 시상식',\n",
       " '라미 말렉',\n",
       " '루시 보인턴',\n",
       " '삼성라이온즈',\n",
       " '케파',\n",
       " '권오중 아들 발달장애',\n",
       " '그린북',\n",
       " '강정호',\n",
       " '노승일',\n",
       " '첼시 맨시티',\n",
       " '발달장애',\n",
       " 'v50',\n",
       " 'lg v50',\n",
       " '에듀파인',\n",
       " '아미피디아',\n",
       " '한예슬',\n",
       " '맨유 리버풀',\n",
       " '화웨이 폴더블폰',\n",
       " '홍익표']"
      ]
     },
     "execution_count": 32,
     "metadata": {},
     "output_type": "execute_result"
    }
   ],
   "source": [
    "[tag.text for tag in tag_list]  # list comprehension"
   ]
  },
  {
   "cell_type": "code",
   "execution_count": 33,
   "metadata": {
    "collapsed": true
   },
   "outputs": [
    {
     "data": {
      "text/plain": [
       "{'2019 아카데미 시상식',\n",
       " 'lg v50',\n",
       " 'v50',\n",
       " '강정호',\n",
       " '권오중 아들 발달장애',\n",
       " '그린북',\n",
       " '노승일',\n",
       " '라미 말렉',\n",
       " '루시 보인턴',\n",
       " '맨유 리버풀',\n",
       " '발달장애',\n",
       " '삼성라이온즈',\n",
       " '아미피디아',\n",
       " '에듀파인',\n",
       " '첼시 맨시티',\n",
       " '케파',\n",
       " '한예슬',\n",
       " '홍익표',\n",
       " '화웨이 폴더블폰',\n",
       " '히든프라이스'}"
      ]
     },
     "execution_count": 33,
     "metadata": {},
     "output_type": "execute_result"
    }
   ],
   "source": [
    "{tag.text for tag in tag_list}  # set comprehension"
   ]
  },
  {
   "cell_type": "code",
   "execution_count": 34,
   "metadata": {
    "collapsed": true
   },
   "outputs": [
    {
     "data": {
      "text/plain": [
       "{'히든프라이스': 6,\n",
       " '2019 아카데미 시상식': 13,\n",
       " '라미 말렉': 5,\n",
       " '루시 보인턴': 6,\n",
       " '삼성라이온즈': 6,\n",
       " '케파': 2,\n",
       " '권오중 아들 발달장애': 11,\n",
       " '그린북': 3,\n",
       " '강정호': 3,\n",
       " '노승일': 3,\n",
       " '첼시 맨시티': 6,\n",
       " '발달장애': 4,\n",
       " 'v50': 3,\n",
       " 'lg v50': 6,\n",
       " '에듀파인': 4,\n",
       " '아미피디아': 5,\n",
       " '한예슬': 3,\n",
       " '맨유 리버풀': 6,\n",
       " '화웨이 폴더블폰': 8,\n",
       " '홍익표': 3}"
      ]
     },
     "execution_count": 34,
     "metadata": {},
     "output_type": "execute_result"
    }
   ],
   "source": [
    "{tag.text: len(tag.text) for tag in tag_list}  # dict comprehension"
   ]
  },
  {
   "cell_type": "code",
   "execution_count": 35,
   "metadata": {},
   "outputs": [
    {
     "data": {
      "text/plain": [
       "<generator object <genexpr> at 0x10663fed0>"
      ]
     },
     "execution_count": 35,
     "metadata": {},
     "output_type": "execute_result"
    }
   ],
   "source": [
    "(tag.text for tag in tag_list)"
   ]
  },
  {
   "cell_type": "code",
   "execution_count": null,
   "metadata": {},
   "outputs": [],
   "source": []
  },
  {
   "cell_type": "code",
   "execution_count": 39,
   "metadata": {},
   "outputs": [],
   "source": [
    "def mysum(x, y):\n",
    "    '''2개의 인자를 받아서, 더한 값을 반환해주는 함수\n",
    "    '''\n",
    "    return x + y"
   ]
  },
  {
   "cell_type": "code",
   "execution_count": 40,
   "metadata": {},
   "outputs": [
    {
     "data": {
      "text/plain": [
       "3"
      ]
     },
     "execution_count": 40,
     "metadata": {},
     "output_type": "execute_result"
    }
   ],
   "source": [
    "mysum(1, 2)"
   ]
  },
  {
   "cell_type": "code",
   "execution_count": null,
   "metadata": {},
   "outputs": [],
   "source": []
  },
  {
   "cell_type": "code",
   "execution_count": null,
   "metadata": {},
   "outputs": [],
   "source": []
  }
 ],
 "metadata": {
  "kernelspec": {
   "display_name": "Python 3",
   "language": "python",
   "name": "python3"
  },
  "language_info": {
   "codemirror_mode": {
    "name": "ipython",
    "version": 3
   },
   "file_extension": ".py",
   "mimetype": "text/x-python",
   "name": "python",
   "nbconvert_exporter": "python",
   "pygments_lexer": "ipython3",
   "version": "3.7.0"
  }
 },
 "nbformat": 4,
 "nbformat_minor": 2
}
