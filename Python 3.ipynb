{
 "cells": [
  {
   "cell_type": "markdown",
   "metadata": {},
   "source": [
    "## 클래스"
   ]
  },
  {
   "cell_type": "markdown",
   "metadata": {},
   "source": [
    "```java\n",
    "// java 예시\n",
    "class Person {\n",
    "\tString name;\n",
    "\tString region;\n",
    "\n",
    "\tPerson(String name, String region) {\n",
    "\t\tthis.name = name;\n",
    "\t\tthis.region = region;\n",
    "\t}\n",
    "}\n",
    "\n",
    "Person person = new Person(\"Chinseok Lee\", \"Daejeon\");\n",
    "```"
   ]
  },
  {
   "cell_type": "markdown",
   "metadata": {},
   "source": [
    "```python\n",
    "# python 예시\n",
    "class Person:\n",
    "\tdef __init__(self, name, region):\n",
    "\t\tself.name = name\n",
    "\t\tself.region = region\n",
    "\n",
    "person = Person('Chinseok Lee', 'daejeon')\n",
    "```"
   ]
  },
  {
   "cell_type": "code",
   "execution_count": 1,
   "metadata": {},
   "outputs": [],
   "source": [
    "class Dog:\n",
    "    tricks = []  # Class Variables\n",
    "    \n",
    "    def add_trick(self, trick):\n",
    "        self.tricks.append(trick)"
   ]
  },
  {
   "cell_type": "code",
   "execution_count": 2,
   "metadata": {},
   "outputs": [],
   "source": [
    "dog1 = Dog()\n",
    "dog1.add_trick('roll over')\n",
    "\n",
    "dog2 = Dog()\n",
    "dog2.add_trick('play dead')"
   ]
  },
  {
   "cell_type": "code",
   "execution_count": 3,
   "metadata": {},
   "outputs": [
    {
     "name": "stdout",
     "output_type": "stream",
     "text": [
      "['roll over', 'play dead']\n",
      "['roll over', 'play dead']\n"
     ]
    }
   ],
   "source": [
    "print(dog1.tricks)\n",
    "print(dog2.tricks)"
   ]
  },
  {
   "cell_type": "code",
   "execution_count": 4,
   "metadata": {},
   "outputs": [
    {
     "data": {
      "text/plain": [
       "(4415750088, 4415750088)"
      ]
     },
     "execution_count": 4,
     "metadata": {},
     "output_type": "execute_result"
    }
   ],
   "source": [
    "id(dog1.tricks), id(dog2.tricks)"
   ]
  },
  {
   "cell_type": "code",
   "execution_count": 5,
   "metadata": {},
   "outputs": [
    {
     "data": {
      "text/plain": [
       "4415750088"
      ]
     },
     "execution_count": 5,
     "metadata": {},
     "output_type": "execute_result"
    }
   ],
   "source": [
    "id(Dog.tricks)"
   ]
  },
  {
   "cell_type": "markdown",
   "metadata": {},
   "source": [
    "개선"
   ]
  },
  {
   "cell_type": "code",
   "execution_count": 6,
   "metadata": {},
   "outputs": [
    {
     "name": "stdout",
     "output_type": "stream",
     "text": [
      "['roll over']\n",
      "['play dead']\n",
      "4415093320 4415093192\n"
     ]
    }
   ],
   "source": [
    "class Dog:\n",
    "#     tricks = []  # Class Variables\n",
    "    def __init__(self):\n",
    "        self.tricks = []\n",
    "    \n",
    "    def add_trick(self, trick):\n",
    "        self.tricks.append(trick)\n",
    "        \n",
    "dog1 = Dog()\n",
    "dog1.add_trick('roll over')\n",
    "\n",
    "dog2 = Dog()\n",
    "dog2.add_trick('play dead')\n",
    "\n",
    "print(dog1.tricks)\n",
    "print(dog2.tricks)\n",
    "\n",
    "print(id(dog1.tricks), id(dog2.tricks))"
   ]
  },
  {
   "cell_type": "markdown",
   "metadata": {},
   "source": [
    "디폴트 인자에 대한 고찰"
   ]
  },
  {
   "cell_type": "code",
   "execution_count": 8,
   "metadata": {},
   "outputs": [],
   "source": [
    "def add_trick(trick, tricks=[]):  # 디폴트인자는 Immutable한 객체만 쓰셔야합니다.\n",
    "    tricks.append(trick)\n",
    "    return tricks"
   ]
  },
  {
   "cell_type": "code",
   "execution_count": 9,
   "metadata": {},
   "outputs": [
    {
     "data": {
      "text/plain": [
       "['play dead']"
      ]
     },
     "execution_count": 9,
     "metadata": {},
     "output_type": "execute_result"
    }
   ],
   "source": [
    "add_trick('play dead')"
   ]
  },
  {
   "cell_type": "code",
   "execution_count": 10,
   "metadata": {},
   "outputs": [
    {
     "data": {
      "text/plain": [
       "['play dead', 'roll over']"
      ]
     },
     "execution_count": 10,
     "metadata": {},
     "output_type": "execute_result"
    }
   ],
   "source": [
    "add_trick('roll over')"
   ]
  },
  {
   "cell_type": "markdown",
   "metadata": {},
   "source": [
    "해결책"
   ]
  },
  {
   "cell_type": "code",
   "execution_count": 11,
   "metadata": {},
   "outputs": [],
   "source": [
    "def add_trick(trick, tricks=None):\n",
    "    if tricks is None:\n",
    "        tricks = []\n",
    "    tricks.append(trick)\n",
    "    return tricks"
   ]
  },
  {
   "cell_type": "code",
   "execution_count": 12,
   "metadata": {},
   "outputs": [
    {
     "data": {
      "text/plain": [
       "['play dead']"
      ]
     },
     "execution_count": 12,
     "metadata": {},
     "output_type": "execute_result"
    }
   ],
   "source": [
    "add_trick('play dead')"
   ]
  },
  {
   "cell_type": "code",
   "execution_count": 13,
   "metadata": {},
   "outputs": [
    {
     "data": {
      "text/plain": [
       "['roll over']"
      ]
     },
     "execution_count": 13,
     "metadata": {},
     "output_type": "execute_result"
    }
   ],
   "source": [
    "add_trick('roll over')"
   ]
  },
  {
   "cell_type": "code",
   "execution_count": null,
   "metadata": {},
   "outputs": [],
   "source": []
  },
  {
   "cell_type": "code",
   "execution_count": 14,
   "metadata": {},
   "outputs": [],
   "source": [
    "import pandas as pd"
   ]
  },
  {
   "cell_type": "code",
   "execution_count": null,
   "metadata": {},
   "outputs": [],
   "source": [
    "pd.DataFrame"
   ]
  },
  {
   "cell_type": "markdown",
   "metadata": {},
   "source": [
    "## Overloading"
   ]
  },
  {
   "cell_type": "code",
   "execution_count": 22,
   "metadata": {},
   "outputs": [],
   "source": [
    "class Person:\n",
    "    def __init__(self, name, age):\n",
    "        self.name = name\n",
    "        self.age = age\n",
    "    \n",
    "    def __str__(self):\n",
    "        return self.name"
   ]
  },
  {
   "cell_type": "code",
   "execution_count": 23,
   "metadata": {},
   "outputs": [],
   "source": [
    "tom = Person('Tom', 10)"
   ]
  },
  {
   "cell_type": "code",
   "execution_count": 24,
   "metadata": {},
   "outputs": [
    {
     "name": "stdout",
     "output_type": "stream",
     "text": [
      "Person('Tom', 10)\n"
     ]
    }
   ],
   "source": [
    "repr(tom)  # 그 문자열 출력으로, 원래 객체를 만들 수 있는.\n",
    "\n",
    "print(\"Person('Tom', 10)\")"
   ]
  },
  {
   "cell_type": "code",
   "execution_count": 25,
   "metadata": {},
   "outputs": [
    {
     "data": {
      "text/plain": [
       "'Tom'"
      ]
     },
     "execution_count": 25,
     "metadata": {},
     "output_type": "execute_result"
    }
   ],
   "source": [
    "str(tom)  # tom.__str__()"
   ]
  },
  {
   "cell_type": "code",
   "execution_count": 26,
   "metadata": {},
   "outputs": [
    {
     "name": "stdout",
     "output_type": "stream",
     "text": [
      "Tom\n"
     ]
    }
   ],
   "source": [
    "print(tom)  # 내부적으로 str이 호출됨."
   ]
  },
  {
   "cell_type": "markdown",
   "metadata": {},
   "source": [
    "`Django`에서의 `Model` ORM\n",
    "\n",
    "```python\n",
    "class Post(models.Model):\n",
    "    title = models.CharField(max_length=100)\n",
    "    content = models.TextField()\n",
    "    \n",
    "    def __str__(self):\n",
    "        return self.title\n",
    "\n",
    "post = Post.objects.first()\n",
    "print(post)  # post.__str__()\n",
    "```"
   ]
  },
  {
   "cell_type": "markdown",
   "metadata": {},
   "source": [
    "## ex) 파일 I/O"
   ]
  },
  {
   "cell_type": "code",
   "execution_count": 27,
   "metadata": {},
   "outputs": [],
   "source": [
    "f = open(\"로그.log\", \"at\", encoding=\"utf8\")\n",
    "try:\n",
    "    f.write(\"line1\\n\")\n",
    "    f.write(\"line2\\n\")\n",
    "    f.write(\"line3\\n\")\n",
    "    1/0\n",
    "finally:\n",
    "    f.close()"
   ]
  },
  {
   "cell_type": "code",
   "execution_count": null,
   "metadata": {},
   "outputs": [],
   "source": [
    "with open(\"로그.log\", \"at\", encoding=\"utf8\") as f:\n",
    "    f.write(\"line1\\n\")\n",
    "    f.write(\"line2\\n\")\n",
    "    f.write(\"line3\\n\")\n",
    "    1/0"
   ]
  },
  {
   "cell_type": "markdown",
   "metadata": {},
   "source": [
    "Overloading에서 부모 멤버함수 호출"
   ]
  },
  {
   "cell_type": "code",
   "execution_count": 45,
   "metadata": {},
   "outputs": [],
   "source": [
    "class Person:\n",
    "    def __init__(self, name, region):\n",
    "        self.name = name\n",
    "        self.region = region\n",
    "    \n",
    "    def walk(self, direction):\n",
    "        print(\"{}이 {}로 걸어갑니다.\".format(self.name, direction))\n",
    "        \n",
    "class Developer(Person):\n",
    "    def walk(self, direction, drink):\n",
    "        ret = super().walk(direction)\n",
    "        print('{}이 헤드셋을 끼고 음악을 듣습니다.'.format(self.name))\n",
    "        print('{}를 마십니다.'.format(drink))\n",
    "        return ret"
   ]
  },
  {
   "cell_type": "code",
   "execution_count": 46,
   "metadata": {},
   "outputs": [
    {
     "name": "stdout",
     "output_type": "stream",
     "text": [
      "Tom이 부산대학교로 걸어갑니다.\n",
      "Steve이 부산대학교로 걸어갑니다.\n",
      "Steve이 헤드셋을 끼고 음악을 듣습니다.\n",
      "커피를 마십니다.\n"
     ]
    }
   ],
   "source": [
    "tom = Person('Tom', 10)\n",
    "tom.walk('부산대학교')\n",
    "\n",
    "steve = Developer('Steve', 25)\n",
    "steve.walk('부산대학교', '커피')"
   ]
  },
  {
   "cell_type": "markdown",
   "metadata": {},
   "source": [
    "## 장식자 (Decorators)"
   ]
  },
  {
   "cell_type": "code",
   "execution_count": 52,
   "metadata": {},
   "outputs": [
    {
     "name": "stdout",
     "output_type": "stream",
     "text": [
      "13\n",
      "14\n",
      "23\n",
      "24\n"
     ]
    }
   ],
   "source": [
    "def myfn(base_number):\n",
    "#     fn = lambda x, y: x + y + base_number\n",
    "    def fn(x, y):\n",
    "        return x + y + base_number\n",
    "    return fn\n",
    "\n",
    "base_10 = myfn(10)\n",
    "base_20 = myfn(20)\n",
    "\n",
    "print(base_10(1, 2))\n",
    "print(base_10(1, 3))\n",
    "\n",
    "print(base_20(1, 2))\n",
    "print(base_20(1, 3))"
   ]
  },
  {
   "cell_type": "markdown",
   "metadata": {},
   "source": [
    "### memoize 패턴을 장식자로 구현"
   ]
  },
  {
   "cell_type": "code",
   "execution_count": 57,
   "metadata": {},
   "outputs": [
    {
     "name": "stdout",
     "output_type": "stream",
     "text": [
      "13\n",
      "13\n",
      "13\n",
      "14\n",
      "2\n",
      "2\n",
      "2\n"
     ]
    }
   ],
   "source": [
    "import time\n",
    "\n",
    "cached = {}\n",
    "\n",
    "def mysum(x, y):\n",
    "    key = (x, y)\n",
    "    if key not in cached:\n",
    "        time.sleep(1)\n",
    "        cached[key] = x + y + 10\n",
    "    return cached[key]\n",
    "\n",
    "cached2 = {}\n",
    "\n",
    "def mymultiply(x, y):\n",
    "    key = (x, y)\n",
    "    if key not in cached2:\n",
    "        time.sleep(1)\n",
    "        cached2[key] = x * y\n",
    "    return cached2[key]\n",
    "\n",
    "print(mysum(1, 2))\n",
    "print(mysum(1, 2))\n",
    "print(mysum(1, 2))\n",
    "\n",
    "print(mysum(1, 3))\n",
    "\n",
    "print(mymultiply(1, 2))\n",
    "print(mymultiply(1, 2))\n",
    "print(mymultiply(1, 2))"
   ]
  },
  {
   "cell_type": "markdown",
   "metadata": {},
   "source": [
    "장식자 적용"
   ]
  },
  {
   "cell_type": "code",
   "execution_count": 62,
   "metadata": {},
   "outputs": [
    {
     "name": "stdout",
     "output_type": "stream",
     "text": [
      "13\n",
      "13\n",
      "13\n",
      "14\n",
      "2\n",
      "2\n",
      "2\n"
     ]
    }
   ],
   "source": [
    "def memoize(fn):\n",
    "    cached = {}\n",
    "    def wrap(x, y):\n",
    "        key = (x, y)\n",
    "        if key not in cached:\n",
    "            cached[key] = fn(x, y)\n",
    "        return cached[key]\n",
    "    return wrap\n",
    "\n",
    "\n",
    "@memoize\n",
    "def mysum(x, y):\n",
    "    time.sleep(1)\n",
    "    return x + y + 10\n",
    "\n",
    "# mysum = memoize(mysum)\n",
    "\n",
    "\n",
    "@memoize\n",
    "def mymultiply(x, y):\n",
    "    time.sleep(1)\n",
    "    return x * y\n",
    "\n",
    "# mymultiply = memoize(mymultiply)\n",
    "\n",
    "\n",
    "print(mysum(1, 2))\n",
    "print(mysum(1, 2))\n",
    "print(mysum(1, 2))\n",
    "\n",
    "print(mysum(1, 3))\n",
    "\n",
    "print(mymultiply(1, 2))\n",
    "print(mymultiply(1, 2))\n",
    "print(mymultiply(1, 2))\n"
   ]
  },
  {
   "cell_type": "markdown",
   "metadata": {},
   "source": [
    "캐시 서버를 활용토록 해볼 수 있습니다.\n",
    "\n",
    "+ memcached\n",
    "+ redis"
   ]
  },
  {
   "cell_type": "code",
   "execution_count": null,
   "metadata": {},
   "outputs": [],
   "source": [
    "from django.contrib.auth.decorators import login_required\n",
    "\n",
    "@login_required\n",
    "@gold_membership_required\n",
    "@교수님_권한_required\n",
    "def post_new(request):\n",
    "    # ..."
   ]
  },
  {
   "cell_type": "code",
   "execution_count": null,
   "metadata": {},
   "outputs": [],
   "source": []
  },
  {
   "cell_type": "code",
   "execution_count": null,
   "metadata": {},
   "outputs": [],
   "source": []
  },
  {
   "cell_type": "code",
   "execution_count": null,
   "metadata": {},
   "outputs": [],
   "source": []
  },
  {
   "cell_type": "code",
   "execution_count": null,
   "metadata": {},
   "outputs": [],
   "source": []
  },
  {
   "cell_type": "code",
   "execution_count": null,
   "metadata": {},
   "outputs": [],
   "source": []
  },
  {
   "cell_type": "code",
   "execution_count": null,
   "metadata": {},
   "outputs": [],
   "source": []
  },
  {
   "cell_type": "code",
   "execution_count": null,
   "metadata": {},
   "outputs": [],
   "source": []
  },
  {
   "cell_type": "code",
   "execution_count": null,
   "metadata": {},
   "outputs": [],
   "source": []
  }
 ],
 "metadata": {
  "kernelspec": {
   "display_name": "Python 3",
   "language": "python",
   "name": "python3"
  },
  "language_info": {
   "codemirror_mode": {
    "name": "ipython",
    "version": 3
   },
   "file_extension": ".py",
   "mimetype": "text/x-python",
   "name": "python",
   "nbconvert_exporter": "python",
   "pygments_lexer": "ipython3",
   "version": "3.7.0"
  }
 },
 "nbformat": 4,
 "nbformat_minor": 2
}
